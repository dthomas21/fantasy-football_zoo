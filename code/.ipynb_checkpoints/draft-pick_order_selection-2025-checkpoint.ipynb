{
 "cells": [
  {
   "cell_type": "code",
   "execution_count": 1,
   "metadata": {
    "ExecuteTime": {
     "end_time": "2025-08-28T03:05:57.851020Z",
     "start_time": "2025-08-28T03:05:56.693276Z"
    }
   },
   "outputs": [],
   "source": [
    "from numpy.random import choice\n",
    "import time"
   ]
  },
  {
   "cell_type": "code",
   "execution_count": 2,
   "metadata": {
    "ExecuteTime": {
     "end_time": "2025-08-28T03:06:21.603528Z",
     "start_time": "2025-08-28T03:06:21.575482Z"
    }
   },
   "outputs": [],
   "source": [
    "def ryd3r_draft_selection():\n",
    "#     selects list of ryd3rs based on predetermined probabilities\n",
    "    select_ryd3rs = choice(['Unkle T', 'Park', 'B-rad', 'A-Dub',\n",
    "                            'Teddy Sundays', 'DT', 'DC LBN', 'Sky god'], \n",
    "                           \n",
    "#                                    Parameters\n",
    "                                    size=8, replace=False, \n",
    "                                    p=[.33, .2, .15, .1, .08, .06, .05, .03])\n",
    "#     prints each ryd3r\n",
    "    for i in range(len(select_ryd3rs)):\n",
    "#     waits 5 seconds between picks\n",
    "        print(f'Pick {i+1}: {select_ryd3rs[i]}')\n",
    "        time.sleep(15)"
   ]
  },
  {
   "cell_type": "code",
   "execution_count": 3,
   "metadata": {
    "ExecuteTime": {
     "end_time": "2025-08-28T03:08:36.673569Z",
     "start_time": "2025-08-28T03:06:36.644442Z"
    }
   },
   "outputs": [
    {
     "name": "stdout",
     "output_type": "stream",
     "text": [
      "Pick 1: Unkle T\n",
      "Pick 2: Park\n",
      "Pick 3: Teddy Sundays\n",
      "Pick 4: B-rad\n",
      "Pick 5: DT\n",
      "Pick 6: DC LBN\n",
      "Pick 7: A-Dub\n",
      "Pick 8: Sky god\n"
     ]
    }
   ],
   "source": [
    "ryd3r_draft_selection()"
   ]
  },
  {
   "cell_type": "code",
   "execution_count": null,
   "metadata": {},
   "outputs": [],
   "source": []
  }
 ],
 "metadata": {
  "kernelspec": {
   "display_name": "Python 3",
   "language": "python",
   "name": "python3"
  },
  "language_info": {
   "codemirror_mode": {
    "name": "ipython",
    "version": 3
   },
   "file_extension": ".py",
   "mimetype": "text/x-python",
   "name": "python",
   "nbconvert_exporter": "python",
   "pygments_lexer": "ipython3",
   "version": "3.7.1"
  }
 },
 "nbformat": 4,
 "nbformat_minor": 2
}
