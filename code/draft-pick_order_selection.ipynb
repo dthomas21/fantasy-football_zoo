{
 "cells": [
  {
   "cell_type": "code",
   "execution_count": 1,
   "metadata": {
    "ExecuteTime": {
     "end_time": "2019-08-23T04:41:01.384913Z",
     "start_time": "2019-08-23T04:41:01.220942Z"
    }
   },
   "outputs": [],
   "source": [
    "from numpy.random import choice\n",
    "import time"
   ]
  },
  {
   "cell_type": "code",
   "execution_count": 2,
   "metadata": {
    "ExecuteTime": {
     "end_time": "2019-08-23T04:41:01.392050Z",
     "start_time": "2019-08-23T04:41:01.387371Z"
    }
   },
   "outputs": [],
   "source": [
    "def ryd3r_draft_selection():\n",
    "#     selects list of ryd3rs based on predetermined probabilities\n",
    "    select_ryd3rs = choice(['B-rad the Builder', 'Trojan Ted', 'Air Parker', 'Sky God', \n",
    "                            'LBN', 'Unkle T', 'Dare', 'Gardener'], size=8, replace=False, \n",
    "                           p=[.33, .2, .15, .1, .08, .06, .05, .03])\n",
    "#     prints each ryd3r\n",
    "    for i in range(len(select_ryd3rs)):\n",
    "#     waits 5 seconds between picks\n",
    "        time.sleep(10)\n",
    "        print(f'Pick {i+1}: {select_ryd3rs[i]}')"
   ]
  },
  {
   "cell_type": "code",
   "execution_count": 3,
   "metadata": {
    "ExecuteTime": {
     "end_time": "2019-08-23T04:42:21.422773Z",
     "start_time": "2019-08-23T04:41:01.394238Z"
    }
   },
   "outputs": [
    {
     "name": "stdout",
     "output_type": "stream",
     "text": [
      "Pick 1: Unkle T\n",
      "Pick 2: Trojan Ted\n",
      "Pick 3: Air Parker\n",
      "Pick 4: Sky God\n",
      "Pick 5: B-rad the Builder\n",
      "Pick 6: LBN\n",
      "Pick 7: Gardener\n",
      "Pick 8: Dare\n"
     ]
    }
   ],
   "source": [
    "ryd3r_draft_selection()"
   ]
  }
 ],
 "metadata": {
  "kernelspec": {
   "display_name": "Python 3",
   "language": "python",
   "name": "python3"
  },
  "language_info": {
   "codemirror_mode": {
    "name": "ipython",
    "version": 3
   },
   "file_extension": ".py",
   "mimetype": "text/x-python",
   "name": "python",
   "nbconvert_exporter": "python",
   "pygments_lexer": "ipython3",
   "version": "3.7.1"
  }
 },
 "nbformat": 4,
 "nbformat_minor": 2
}
