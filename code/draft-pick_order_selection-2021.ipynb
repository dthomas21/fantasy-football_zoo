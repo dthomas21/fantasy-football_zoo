{
 "cells": [
  {
   "cell_type": "code",
   "execution_count": 1,
   "metadata": {
    "ExecuteTime": {
     "end_time": "2021-08-25T02:39:29.181293Z",
     "start_time": "2021-08-25T02:39:28.924705Z"
    }
   },
   "outputs": [],
   "source": [
    "from numpy.random import choice\n",
    "import time"
   ]
  },
  {
   "cell_type": "code",
   "execution_count": 2,
   "metadata": {
    "ExecuteTime": {
     "end_time": "2021-08-25T02:39:35.707063Z",
     "start_time": "2021-08-25T02:39:35.699889Z"
    }
   },
   "outputs": [],
   "source": [
    "def ryd3r_draft_selection():\n",
    "#     selects list of ryd3rs based on predetermined probabilities\n",
    "    select_ryd3rs = choice(['Ted', 'Park', 'DT', 'B-rad', 'DC', \n",
    "                             'A-Aron', 'Unkle', 'Sky' ], size=8, replace=False, \n",
    "                           p=[.33, .2, .15, .1, .08, .06, .05, .03])\n",
    "#     prints each ryd3r\n",
    "    for i in range(len(select_ryd3rs)):\n",
    "#     waits 5 seconds between picks\n",
    "        print(f'Pick {i+1}: {select_ryd3rs[i]}')\n",
    "        time.sleep(20)"
   ]
  },
  {
   "cell_type": "code",
   "execution_count": 3,
   "metadata": {
    "ExecuteTime": {
     "end_time": "2021-08-25T02:42:16.505004Z",
     "start_time": "2021-08-25T02:39:36.479131Z"
    }
   },
   "outputs": [
    {
     "name": "stdout",
     "output_type": "stream",
     "text": [
      "Pick 1: B-rad\n",
      "Pick 2: Ted\n",
      "Pick 3: A-Aron\n",
      "Pick 4: Park\n",
      "Pick 5: DT\n",
      "Pick 6: DC\n",
      "Pick 7: Unkle\n",
      "Pick 8: Sky\n"
     ]
    }
   ],
   "source": [
    "ryd3r_draft_selection()"
   ]
  },
  {
   "cell_type": "code",
   "execution_count": null,
   "metadata": {},
   "outputs": [],
   "source": []
  }
 ],
 "metadata": {
  "kernelspec": {
   "display_name": "Python 3",
   "language": "python",
   "name": "python3"
  },
  "language_info": {
   "codemirror_mode": {
    "name": "ipython",
    "version": 3
   },
   "file_extension": ".py",
   "mimetype": "text/x-python",
   "name": "python",
   "nbconvert_exporter": "python",
   "pygments_lexer": "ipython3",
   "version": "3.7.1"
  }
 },
 "nbformat": 4,
 "nbformat_minor": 2
}
