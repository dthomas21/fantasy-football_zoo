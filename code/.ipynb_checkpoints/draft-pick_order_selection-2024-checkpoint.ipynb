{
 "cells": [
  {
   "cell_type": "code",
   "execution_count": 1,
   "metadata": {
    "ExecuteTime": {
     "end_time": "2024-08-28T02:05:48.598967Z",
     "start_time": "2024-08-28T02:05:47.806504Z"
    }
   },
   "outputs": [],
   "source": [
    "from numpy.random import choice\n",
    "import time"
   ]
  },
  {
   "cell_type": "code",
   "execution_count": 2,
   "metadata": {
    "ExecuteTime": {
     "end_time": "2024-08-28T02:05:48.608597Z",
     "start_time": "2024-08-28T02:05:48.603287Z"
    }
   },
   "outputs": [],
   "source": [
    "def ryd3r_draft_selection():\n",
    "#     selects list of ryd3rs based on predetermined probabilities\n",
    "    select_ryd3rs = choice(['Daddy', 'TWF', 'DC', 'DT', 'B-rad',\n",
    "                             'Sky god', 'Park', 'A-Dub' ], size=8, replace=False, \n",
    "                           p=[.33, .2, .15, .1, .08, .06, .05, .03])\n",
    "#     prints each ryd3r\n",
    "    for i in range(len(select_ryd3rs)):\n",
    "#     waits 5 seconds between picks\n",
    "        print(f'Pick {i+1}: {select_ryd3rs[i]}')\n",
    "        time.sleep(10)"
   ]
  },
  {
   "cell_type": "code",
   "execution_count": 3,
   "metadata": {
    "ExecuteTime": {
     "end_time": "2024-08-28T02:07:08.626360Z",
     "start_time": "2024-08-28T02:05:48.611675Z"
    }
   },
   "outputs": [
    {
     "name": "stdout",
     "output_type": "stream",
     "text": [
      "Pick 1: Daddy\n",
      "Pick 2: DC\n",
      "Pick 3: TWF\n",
      "Pick 4: DT\n",
      "Pick 5: B-rad\n",
      "Pick 6: A-Dub\n",
      "Pick 7: Sky god\n",
      "Pick 8: Park\n"
     ]
    }
   ],
   "source": [
    "ryd3r_draft_selection()"
   ]
  },
  {
   "cell_type": "code",
   "execution_count": null,
   "metadata": {},
   "outputs": [],
   "source": []
  }
 ],
 "metadata": {
  "kernelspec": {
   "display_name": "Python 3",
   "language": "python",
   "name": "python3"
  },
  "language_info": {
   "codemirror_mode": {
    "name": "ipython",
    "version": 3
   },
   "file_extension": ".py",
   "mimetype": "text/x-python",
   "name": "python",
   "nbconvert_exporter": "python",
   "pygments_lexer": "ipython3",
   "version": "3.7.1"
  }
 },
 "nbformat": 4,
 "nbformat_minor": 2
}
