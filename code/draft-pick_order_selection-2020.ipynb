{
 "cells": [
  {
   "cell_type": "code",
   "execution_count": 1,
   "metadata": {
    "ExecuteTime": {
     "end_time": "2020-09-02T02:50:04.753570Z",
     "start_time": "2020-09-02T02:50:04.357301Z"
    }
   },
   "outputs": [],
   "source": [
    "from numpy.random import choice\n",
    "import time"
   ]
  },
  {
   "cell_type": "code",
   "execution_count": 2,
   "metadata": {
    "ExecuteTime": {
     "end_time": "2020-09-02T02:50:26.063746Z",
     "start_time": "2020-09-02T02:50:26.058972Z"
    }
   },
   "outputs": [],
   "source": [
    "def ryd3r_draft_selection():\n",
    "#     selects list of ryd3rs based on predetermined probabilities\n",
    "    select_ryd3rs = choice(['Trojan Ted', 'Gardener', 'LBN', 'Dare', 'Air Parker', \n",
    "                             'B-rad the Builder', 'Sky God', 'Unkle T' ], size=8, replace=False, \n",
    "                           p=[.33, .2, .15, .1, .08, .06, .05, .03])\n",
    "#     prints each ryd3r\n",
    "    for i in range(len(select_ryd3rs)):\n",
    "#     waits 5 seconds between picks\n",
    "        time.sleep(20)\n",
    "        print(f'Pick {i+1}: {select_ryd3rs[i]}')"
   ]
  },
  {
   "cell_type": "code",
   "execution_count": 3,
   "metadata": {
    "ExecuteTime": {
     "end_time": "2020-09-02T02:53:17.048997Z",
     "start_time": "2020-09-02T02:50:37.001934Z"
    }
   },
   "outputs": [
    {
     "name": "stdout",
     "output_type": "stream",
     "text": [
      "Pick 1: LBN\n",
      "Pick 2: Gardener\n",
      "Pick 3: Trojan Ted\n",
      "Pick 4: Sky God\n",
      "Pick 5: Dare\n",
      "Pick 6: Air Parker\n",
      "Pick 7: B-rad the Builder\n",
      "Pick 8: Unkle T\n"
     ]
    }
   ],
   "source": [
    "ryd3r_draft_selection()"
   ]
  }
 ],
 "metadata": {
  "kernelspec": {
   "display_name": "Python 3",
   "language": "python",
   "name": "python3"
  },
  "language_info": {
   "codemirror_mode": {
    "name": "ipython",
    "version": 3
   },
   "file_extension": ".py",
   "mimetype": "text/x-python",
   "name": "python",
   "nbconvert_exporter": "python",
   "pygments_lexer": "ipython3",
   "version": "3.7.1"
  }
 },
 "nbformat": 4,
 "nbformat_minor": 2
}
