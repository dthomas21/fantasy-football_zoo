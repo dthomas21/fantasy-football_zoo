{
 "cells": [
  {
   "cell_type": "code",
   "execution_count": 1,
   "metadata": {
    "ExecuteTime": {
     "end_time": "2023-09-04T20:06:51.007640Z",
     "start_time": "2023-09-04T20:06:50.214882Z"
    }
   },
   "outputs": [],
   "source": [
    "from numpy.random import choice\n",
    "import time"
   ]
  },
  {
   "cell_type": "code",
   "execution_count": 2,
   "metadata": {
    "ExecuteTime": {
     "end_time": "2023-09-04T20:06:53.165249Z",
     "start_time": "2023-09-04T20:06:53.159115Z"
    }
   },
   "outputs": [],
   "source": [
    "def ryd3r_draft_selection():\n",
    "#     selects list of ryd3rs based on predetermined probabilities\n",
    "    select_ryd3rs = choice(['Park', 'Daddy', 'TWF', 'DC', 'A-Dub', \n",
    "                             'DT', 'Sky', 'B-rad' ], size=8, replace=False, \n",
    "                           p=[.33, .2, .15, .1, .08, .06, .05, .03])\n",
    "#     prints each ryd3r\n",
    "    for i in range(len(select_ryd3rs)):\n",
    "#     waits 5 seconds between picks\n",
    "        print(f'Pick {i+1}: {select_ryd3rs[i]}')\n",
    "        time.sleep(5)"
   ]
  },
  {
   "cell_type": "code",
   "execution_count": 3,
   "metadata": {
    "ExecuteTime": {
     "end_time": "2023-09-04T20:07:37.671594Z",
     "start_time": "2023-09-04T20:06:57.642463Z"
    }
   },
   "outputs": [
    {
     "name": "stdout",
     "output_type": "stream",
     "text": [
      "Pick 1: DC\n",
      "Pick 2: Park\n",
      "Pick 3: DT\n",
      "Pick 4: Sky\n",
      "Pick 5: Daddy\n",
      "Pick 6: B-rad\n",
      "Pick 7: TWF\n",
      "Pick 8: A-Dub\n"
     ]
    }
   ],
   "source": [
    "ryd3r_draft_selection()"
   ]
  },
  {
   "cell_type": "code",
   "execution_count": null,
   "metadata": {},
   "outputs": [],
   "source": []
  }
 ],
 "metadata": {
  "kernelspec": {
   "display_name": "Python 3",
   "language": "python",
   "name": "python3"
  },
  "language_info": {
   "codemirror_mode": {
    "name": "ipython",
    "version": 3
   },
   "file_extension": ".py",
   "mimetype": "text/x-python",
   "name": "python",
   "nbconvert_exporter": "python",
   "pygments_lexer": "ipython3",
   "version": "3.7.1"
  }
 },
 "nbformat": 4,
 "nbformat_minor": 2
}
